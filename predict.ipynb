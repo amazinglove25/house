{
 "cells": [
  {
   "cell_type": "code",
   "execution_count": 1,
   "metadata": {},
   "outputs": [],
   "source": [
    "# importing necessary packages\n",
    "import numpy as np\n",
    "import pandas as pd\n",
    "import matplotlib.pyplot as plt\n",
    "import seaborn as sns\n",
    "import mpl_toolkits\n",
    "%matplotlib inline"
   ]
  },
  {
   "cell_type": "code",
   "execution_count": 2,
   "metadata": {},
   "outputs": [
    {
     "data": {
      "text/html": [
       "<div>\n",
       "<style scoped>\n",
       "    .dataframe tbody tr th:only-of-type {\n",
       "        vertical-align: middle;\n",
       "    }\n",
       "\n",
       "    .dataframe tbody tr th {\n",
       "        vertical-align: top;\n",
       "    }\n",
       "\n",
       "    .dataframe thead th {\n",
       "        text-align: right;\n",
       "    }\n",
       "</style>\n",
       "<table border=\"1\" class=\"dataframe\">\n",
       "  <thead>\n",
       "    <tr style=\"text-align: right;\">\n",
       "      <th></th>\n",
       "      <th>Salesprice</th>\n",
       "      <th>Bedrooms</th>\n",
       "      <th>Properttype</th>\n",
       "      <th>Latitude</th>\n",
       "      <th>Longitude</th>\n",
       "      <th>Location</th>\n",
       "    </tr>\n",
       "  </thead>\n",
       "  <tbody>\n",
       "    <tr>\n",
       "      <th>0</th>\n",
       "      <td>11000000</td>\n",
       "      <td>3</td>\n",
       "      <td>Bungalow</td>\n",
       "      <td>6.619413</td>\n",
       "      <td>3.510454</td>\n",
       "      <td>Ikorodu</td>\n",
       "    </tr>\n",
       "    <tr>\n",
       "      <th>1</th>\n",
       "      <td>6500000</td>\n",
       "      <td>3</td>\n",
       "      <td>Flat</td>\n",
       "      <td>6.613070</td>\n",
       "      <td>3.265907</td>\n",
       "      <td>Ipaja</td>\n",
       "    </tr>\n",
       "    <tr>\n",
       "      <th>2</th>\n",
       "      <td>9500000</td>\n",
       "      <td>2</td>\n",
       "      <td>Bungalow</td>\n",
       "      <td>6.613070</td>\n",
       "      <td>3.265907</td>\n",
       "      <td>Ipaja</td>\n",
       "    </tr>\n",
       "    <tr>\n",
       "      <th>3</th>\n",
       "      <td>5000000</td>\n",
       "      <td>2</td>\n",
       "      <td>Bungalow</td>\n",
       "      <td>6.508370</td>\n",
       "      <td>3.384247</td>\n",
       "      <td>Lagos Mainland</td>\n",
       "    </tr>\n",
       "    <tr>\n",
       "      <th>4</th>\n",
       "      <td>14000000</td>\n",
       "      <td>5</td>\n",
       "      <td>Bungalow</td>\n",
       "      <td>6.619413</td>\n",
       "      <td>3.510454</td>\n",
       "      <td>Ikorodu</td>\n",
       "    </tr>\n",
       "    <tr>\n",
       "      <th>5</th>\n",
       "      <td>5000000</td>\n",
       "      <td>4</td>\n",
       "      <td>Duplex</td>\n",
       "      <td>6.508370</td>\n",
       "      <td>3.384247</td>\n",
       "      <td>Lagos Mainland</td>\n",
       "    </tr>\n",
       "    <tr>\n",
       "      <th>6</th>\n",
       "      <td>65000000</td>\n",
       "      <td>4</td>\n",
       "      <td>House</td>\n",
       "      <td>6.617909</td>\n",
       "      <td>3.400106</td>\n",
       "      <td>Magodo</td>\n",
       "    </tr>\n",
       "    <tr>\n",
       "      <th>7</th>\n",
       "      <td>70000000</td>\n",
       "      <td>5</td>\n",
       "      <td>House</td>\n",
       "      <td>6.474028</td>\n",
       "      <td>3.588799</td>\n",
       "      <td>Lekki Phase 2</td>\n",
       "    </tr>\n",
       "    <tr>\n",
       "      <th>8</th>\n",
       "      <td>55000000</td>\n",
       "      <td>4</td>\n",
       "      <td>House</td>\n",
       "      <td>6.426404</td>\n",
       "      <td>3.468852</td>\n",
       "      <td>Lekki Phase 1</td>\n",
       "    </tr>\n",
       "    <tr>\n",
       "      <th>9</th>\n",
       "      <td>85000000</td>\n",
       "      <td>5</td>\n",
       "      <td>Duplex</td>\n",
       "      <td>6.426404</td>\n",
       "      <td>3.468852</td>\n",
       "      <td>Lekki Phase 1</td>\n",
       "    </tr>\n",
       "  </tbody>\n",
       "</table>\n",
       "</div>"
      ],
      "text/plain": [
       "   Salesprice  Bedrooms Properttype  Latitude  Longitude         Location\n",
       "0    11000000         3    Bungalow  6.619413   3.510454          Ikorodu\n",
       "1     6500000         3        Flat  6.613070   3.265907            Ipaja\n",
       "2     9500000         2    Bungalow  6.613070   3.265907            Ipaja\n",
       "3     5000000         2    Bungalow  6.508370   3.384247   Lagos Mainland\n",
       "4    14000000         5    Bungalow  6.619413   3.510454          Ikorodu\n",
       "5     5000000         4      Duplex  6.508370   3.384247   Lagos Mainland\n",
       "6    65000000         4       House  6.617909   3.400106           Magodo\n",
       "7    70000000         5       House  6.474028   3.588799    Lekki Phase 2\n",
       "8    55000000         4       House  6.426404   3.468852    Lekki Phase 1\n",
       "9    85000000         5      Duplex  6.426404   3.468852    Lekki Phase 1"
      ]
     },
     "execution_count": 2,
     "metadata": {},
     "output_type": "execute_result"
    }
   ],
   "source": [
    "data=pd.read_csv('ben.csv')\n",
    "data.head(10)"
   ]
  },
  {
   "cell_type": "code",
   "execution_count": 3,
   "metadata": {},
   "outputs": [
    {
     "name": "stdout",
     "output_type": "stream",
     "text": [
      "<class 'pandas.core.frame.DataFrame'>\n",
      "RangeIndex: 825 entries, 0 to 824\n",
      "Data columns (total 6 columns):\n",
      "Salesprice     825 non-null int64\n",
      "Bedrooms       825 non-null int64\n",
      "Properttype    825 non-null object\n",
      "Latitude       825 non-null float64\n",
      "Longitude      825 non-null float64\n",
      "Location       825 non-null object\n",
      "dtypes: float64(2), int64(2), object(2)\n",
      "memory usage: 32.3+ KB\n"
     ]
    }
   ],
   "source": [
    "data.info()"
   ]
  },
  {
   "cell_type": "code",
   "execution_count": 4,
   "metadata": {},
   "outputs": [
    {
     "data": {
      "text/html": [
       "<div>\n",
       "<style scoped>\n",
       "    .dataframe tbody tr th:only-of-type {\n",
       "        vertical-align: middle;\n",
       "    }\n",
       "\n",
       "    .dataframe tbody tr th {\n",
       "        vertical-align: top;\n",
       "    }\n",
       "\n",
       "    .dataframe thead th {\n",
       "        text-align: right;\n",
       "    }\n",
       "</style>\n",
       "<table border=\"1\" class=\"dataframe\">\n",
       "  <thead>\n",
       "    <tr style=\"text-align: right;\">\n",
       "      <th></th>\n",
       "      <th>Salesprice</th>\n",
       "      <th>Bedrooms</th>\n",
       "      <th>Latitude</th>\n",
       "      <th>Longitude</th>\n",
       "    </tr>\n",
       "  </thead>\n",
       "  <tbody>\n",
       "    <tr>\n",
       "      <th>count</th>\n",
       "      <td>8.250000e+02</td>\n",
       "      <td>825.000000</td>\n",
       "      <td>825.000000</td>\n",
       "      <td>825.000000</td>\n",
       "    </tr>\n",
       "    <tr>\n",
       "      <th>mean</th>\n",
       "      <td>8.758508e+07</td>\n",
       "      <td>3.960000</td>\n",
       "      <td>6.495284</td>\n",
       "      <td>3.474541</td>\n",
       "    </tr>\n",
       "    <tr>\n",
       "      <th>std</th>\n",
       "      <td>1.149519e+08</td>\n",
       "      <td>0.769314</td>\n",
       "      <td>0.063451</td>\n",
       "      <td>0.110446</td>\n",
       "    </tr>\n",
       "    <tr>\n",
       "      <th>min</th>\n",
       "      <td>3.200000e+05</td>\n",
       "      <td>2.000000</td>\n",
       "      <td>6.426404</td>\n",
       "      <td>3.238251</td>\n",
       "    </tr>\n",
       "    <tr>\n",
       "      <th>25%</th>\n",
       "      <td>3.500000e+07</td>\n",
       "      <td>3.000000</td>\n",
       "      <td>6.454812</td>\n",
       "      <td>3.384247</td>\n",
       "    </tr>\n",
       "    <tr>\n",
       "      <th>50%</th>\n",
       "      <td>5.500000e+07</td>\n",
       "      <td>4.000000</td>\n",
       "      <td>6.474028</td>\n",
       "      <td>3.468852</td>\n",
       "    </tr>\n",
       "    <tr>\n",
       "      <th>75%</th>\n",
       "      <td>9.000000e+07</td>\n",
       "      <td>4.000000</td>\n",
       "      <td>6.517791</td>\n",
       "      <td>3.588799</td>\n",
       "    </tr>\n",
       "    <tr>\n",
       "      <th>max</th>\n",
       "      <td>1.000000e+09</td>\n",
       "      <td>9.000000</td>\n",
       "      <td>6.684968</td>\n",
       "      <td>3.804483</td>\n",
       "    </tr>\n",
       "  </tbody>\n",
       "</table>\n",
       "</div>"
      ],
      "text/plain": [
       "         Salesprice    Bedrooms    Latitude   Longitude\n",
       "count  8.250000e+02  825.000000  825.000000  825.000000\n",
       "mean   8.758508e+07    3.960000    6.495284    3.474541\n",
       "std    1.149519e+08    0.769314    0.063451    0.110446\n",
       "min    3.200000e+05    2.000000    6.426404    3.238251\n",
       "25%    3.500000e+07    3.000000    6.454812    3.384247\n",
       "50%    5.500000e+07    4.000000    6.474028    3.468852\n",
       "75%    9.000000e+07    4.000000    6.517791    3.588799\n",
       "max    1.000000e+09    9.000000    6.684968    3.804483"
      ]
     },
     "execution_count": 4,
     "metadata": {},
     "output_type": "execute_result"
    }
   ],
   "source": [
    "data.describe()"
   ]
  },
  {
   "cell_type": "code",
   "execution_count": 9,
   "metadata": {},
   "outputs": [
    {
     "data": {
      "text/html": [
       "<div>\n",
       "<style scoped>\n",
       "    .dataframe tbody tr th:only-of-type {\n",
       "        vertical-align: middle;\n",
       "    }\n",
       "\n",
       "    .dataframe tbody tr th {\n",
       "        vertical-align: top;\n",
       "    }\n",
       "\n",
       "    .dataframe thead th {\n",
       "        text-align: right;\n",
       "    }\n",
       "</style>\n",
       "<table border=\"1\" class=\"dataframe\">\n",
       "  <thead>\n",
       "    <tr style=\"text-align: right;\">\n",
       "      <th></th>\n",
       "      <th>Salesprice</th>\n",
       "      <th>Bedrooms</th>\n",
       "      <th>Properttype</th>\n",
       "      <th>Latitude</th>\n",
       "      <th>Longitude</th>\n",
       "      <th>Location</th>\n",
       "    </tr>\n",
       "  </thead>\n",
       "  <tbody>\n",
       "  </tbody>\n",
       "</table>\n",
       "</div>"
      ],
      "text/plain": [
       "Empty DataFrame\n",
       "Columns: [Salesprice, Bedrooms, Properttype, Latitude, Longitude, Location]\n",
       "Index: []"
      ]
     },
     "execution_count": 9,
     "metadata": {},
     "output_type": "execute_result"
    }
   ],
   "source": [
    "incomplete_rows=data[data.isnull().any(axis=1)].head()\n",
    "incomplete_rows"
   ]
  },
  {
   "cell_type": "code",
   "execution_count": 10,
   "metadata": {},
   "outputs": [
    {
     "data": {
      "text/plain": [
       "Salesprice     False\n",
       "Bedrooms       False\n",
       "Properttype    False\n",
       "Latitude       False\n",
       "Longitude      False\n",
       "Location       False\n",
       "dtype: bool"
      ]
     },
     "execution_count": 10,
     "metadata": {},
     "output_type": "execute_result"
    }
   ],
   "source": [
    "data.isnull().any()"
   ]
  },
  {
   "cell_type": "code",
   "execution_count": 13,
   "metadata": {},
   "outputs": [
    {
     "data": {
      "text/html": [
       "<div>\n",
       "<style scoped>\n",
       "    .dataframe tbody tr th:only-of-type {\n",
       "        vertical-align: middle;\n",
       "    }\n",
       "\n",
       "    .dataframe tbody tr th {\n",
       "        vertical-align: top;\n",
       "    }\n",
       "\n",
       "    .dataframe thead th {\n",
       "        text-align: right;\n",
       "    }\n",
       "</style>\n",
       "<table border=\"1\" class=\"dataframe\">\n",
       "  <thead>\n",
       "    <tr style=\"text-align: right;\">\n",
       "      <th></th>\n",
       "      <th>Salesprice</th>\n",
       "      <th>Bedrooms</th>\n",
       "      <th>Latitude</th>\n",
       "      <th>Longitude</th>\n",
       "    </tr>\n",
       "  </thead>\n",
       "  <tbody>\n",
       "    <tr>\n",
       "      <th>count</th>\n",
       "      <td>8.250000e+02</td>\n",
       "      <td>825.000000</td>\n",
       "      <td>825.000000</td>\n",
       "      <td>825.000000</td>\n",
       "    </tr>\n",
       "    <tr>\n",
       "      <th>mean</th>\n",
       "      <td>8.758508e+07</td>\n",
       "      <td>3.960000</td>\n",
       "      <td>6.495284</td>\n",
       "      <td>3.474541</td>\n",
       "    </tr>\n",
       "    <tr>\n",
       "      <th>std</th>\n",
       "      <td>1.149519e+08</td>\n",
       "      <td>0.769314</td>\n",
       "      <td>0.063451</td>\n",
       "      <td>0.110446</td>\n",
       "    </tr>\n",
       "    <tr>\n",
       "      <th>min</th>\n",
       "      <td>3.200000e+05</td>\n",
       "      <td>2.000000</td>\n",
       "      <td>6.426404</td>\n",
       "      <td>3.238251</td>\n",
       "    </tr>\n",
       "    <tr>\n",
       "      <th>25%</th>\n",
       "      <td>3.500000e+07</td>\n",
       "      <td>3.000000</td>\n",
       "      <td>6.454812</td>\n",
       "      <td>3.384247</td>\n",
       "    </tr>\n",
       "    <tr>\n",
       "      <th>50%</th>\n",
       "      <td>5.500000e+07</td>\n",
       "      <td>4.000000</td>\n",
       "      <td>6.474028</td>\n",
       "      <td>3.468852</td>\n",
       "    </tr>\n",
       "    <tr>\n",
       "      <th>75%</th>\n",
       "      <td>9.000000e+07</td>\n",
       "      <td>4.000000</td>\n",
       "      <td>6.517791</td>\n",
       "      <td>3.588799</td>\n",
       "    </tr>\n",
       "    <tr>\n",
       "      <th>max</th>\n",
       "      <td>1.000000e+09</td>\n",
       "      <td>9.000000</td>\n",
       "      <td>6.684968</td>\n",
       "      <td>3.804483</td>\n",
       "    </tr>\n",
       "  </tbody>\n",
       "</table>\n",
       "</div>"
      ],
      "text/plain": [
       "         Salesprice    Bedrooms    Latitude   Longitude\n",
       "count  8.250000e+02  825.000000  825.000000  825.000000\n",
       "mean   8.758508e+07    3.960000    6.495284    3.474541\n",
       "std    1.149519e+08    0.769314    0.063451    0.110446\n",
       "min    3.200000e+05    2.000000    6.426404    3.238251\n",
       "25%    3.500000e+07    3.000000    6.454812    3.384247\n",
       "50%    5.500000e+07    4.000000    6.474028    3.468852\n",
       "75%    9.000000e+07    4.000000    6.517791    3.588799\n",
       "max    1.000000e+09    9.000000    6.684968    3.804483"
      ]
     },
     "execution_count": 13,
     "metadata": {},
     "output_type": "execute_result"
    }
   ],
   "source": [
    "data.describe()"
   ]
  },
  {
   "cell_type": "code",
   "execution_count": 19,
   "metadata": {},
   "outputs": [],
   "source": [
    "from sklearn.linear_model import LinearRegression\n",
    "reg = LinearRegression()"
   ]
  },
  {
   "cell_type": "code",
   "execution_count": 22,
   "metadata": {},
   "outputs": [],
   "source": [
    "labels = data['Salesprice']"
   ]
  },
  {
   "cell_type": "code",
   "execution_count": 24,
   "metadata": {},
   "outputs": [],
   "source": [
    "from sklearn.model_selection import train_test_split"
   ]
  },
  {
   "cell_type": "code",
   "execution_count": 26,
   "metadata": {},
   "outputs": [],
   "source": [
    "x_train , x_test , y_train , y_test = train_test_split(data , labels , test_size = 0.10,random_state =2)"
   ]
  },
  {
   "cell_type": "code",
   "execution_count": 27,
   "metadata": {},
   "outputs": [
    {
     "data": {
      "text/plain": [
       "LinearRegression(copy_X=True, fit_intercept=True, n_jobs=1, normalize=False)"
      ]
     },
     "execution_count": 27,
     "metadata": {},
     "output_type": "execute_result"
    }
   ],
   "source": [
    "reg = LinearRegression()\n",
    "reg.fit(x_train,y_train)"
   ]
  },
  {
   "cell_type": "code",
   "execution_count": 28,
   "metadata": {},
   "outputs": [
    {
     "data": {
      "text/plain": [
       "1.0"
      ]
     },
     "execution_count": 28,
     "metadata": {},
     "output_type": "execute_result"
    }
   ],
   "source": [
    "reg.score(x_test,y_test)"
   ]
  },
  {
   "cell_type": "code",
   "execution_count": 30,
   "metadata": {},
   "outputs": [],
   "source": [
    "from sklearn import ensemble\n",
    "clf = ensemble.GradientBoostingRegressor(n_estimators = 400, max_depth = 5, min_samples_split = 2,\n",
    "          learning_rate = 0.1, loss = 'ls')\n"
   ]
  },
  {
   "cell_type": "code",
   "execution_count": 31,
   "metadata": {},
   "outputs": [
    {
     "data": {
      "text/plain": [
       "GradientBoostingRegressor(alpha=0.9, criterion='friedman_mse', init=None,\n",
       "             learning_rate=0.1, loss='ls', max_depth=5, max_features=None,\n",
       "             max_leaf_nodes=None, min_impurity_decrease=0.0,\n",
       "             min_impurity_split=None, min_samples_leaf=1,\n",
       "             min_samples_split=2, min_weight_fraction_leaf=0.0,\n",
       "             n_estimators=400, presort='auto', random_state=None,\n",
       "             subsample=1.0, verbose=0, warm_start=False)"
      ]
     },
     "execution_count": 31,
     "metadata": {},
     "output_type": "execute_result"
    }
   ],
   "source": [
    "clf.fit(x_train, y_train)"
   ]
  },
  {
   "cell_type": "code",
   "execution_count": 32,
   "metadata": {},
   "outputs": [
    {
     "data": {
      "text/plain": [
       "0.9992294734294885"
      ]
     },
     "execution_count": 32,
     "metadata": {},
     "output_type": "execute_result"
    }
   ],
   "source": [
    "clf.score(x_test,y_test)"
   ]
  },
  {
   "cell_type": "code",
   "execution_count": null,
   "metadata": {},
   "outputs": [],
   "source": []
  }
 ],
 "metadata": {
  "kernelspec": {
   "display_name": "Python 3",
   "language": "python",
   "name": "python3"
  },
  "language_info": {
   "codemirror_mode": {
    "name": "ipython",
    "version": 3
   },
   "file_extension": ".py",
   "mimetype": "text/x-python",
   "name": "python",
   "nbconvert_exporter": "python",
   "pygments_lexer": "ipython3",
   "version": "3.6.5"
  }
 },
 "nbformat": 4,
 "nbformat_minor": 2
}
